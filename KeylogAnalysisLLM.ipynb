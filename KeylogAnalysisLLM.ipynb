{
 "cells": [
  {
   "cell_type": "code",
   "execution_count": 9,
   "metadata": {},
   "outputs": [],
   "source": [
    "import pandas as pd\n",
    "from dotenv import load_dotenv\n",
    "import os\n",
    "import google.generativeai as genai\n",
    "import json\n",
    "import time\n",
    "import sqlite3\n",
    "load_dotenv()\n",
    "from keylog_analysis_helper import *"
   ]
  },
  {
   "cell_type": "markdown",
   "metadata": {},
   "source": [
    "Notes\n",
    "- Code reconstruction may be incorrect, double check again\n",
    "- Measures of progress:\n",
    "    - Whether code compiles,\n",
    "    - Ask llm if it progressed?\n",
    "    - '# characters written\n",
    "        - Those that are code and not (ask llm)\n",
    "\n",
    "\n",
    "- does this portion make sense\n",
    "- does this portion make sense to the solution \n"
   ]
  },
  {
   "cell_type": "markdown",
   "metadata": {},
   "source": [
    "Define model"
   ]
  },
  {
   "cell_type": "code",
   "execution_count": 8,
   "metadata": {},
   "outputs": [],
   "source": [
    "genai.configure(api_key=os.environ[\"GEMINI_API_KEY\"])\n",
    "\n",
    "# Create the model\n",
    "generation_config = {\n",
    "  \"temperature\": 1,\n",
    "  \"top_p\": 0.95,\n",
    "  \"top_k\": 40,\n",
    "  \"max_output_tokens\": 8192,\n",
    "  \"response_mime_type\": \"text/plain\",\n",
    "}\n",
    "\n",
    "model = genai.GenerativeModel(\n",
    "  model_name=\"models/gemini-1.5-pro-002\",\n",
    "  # generation_config=generation_config,\n",
    ")\n",
    "\n",
    "# chat_session = model.start_chat(\n",
    "#   history=[\n",
    "#   ]\n",
    "# )"
   ]
  },
  {
   "cell_type": "markdown",
   "metadata": {},
   "source": [
    "Define Loop"
   ]
  },
  {
   "cell_type": "code",
   "execution_count": null,
   "metadata": {},
   "outputs": [],
   "source": [
    "a3 = True\n",
    "\n",
    "df = pd.read_csv(\"KeylogDatasets/a3.csv\") if a3 else pd.read_csv(\"KeylogDatasets/a4.csv\")\n",
    "p_list = p_list_a3_log_analysis if a3 else p_list_a4_log_analysis\n",
    "assignment = 'a3' if a3 else 'a4'\n",
    "snapshots_dir = snapshots_dir_a3 if a3 else snapshots_dir_a4\n",
    "\n",
    "for p in p_list:\n",
    "    df_temp = df[df[\"participant\"] == p]\n",
    "\n",
    "    # Create chat session\n",
    "    chat_session = model.start_chat(\n",
    "        history=[\n",
    "            row[\"text\"]\n",
    "        ]\n",
    "    )\n",
    "\n",
    "    for idx, row in df_temp.iterrows()[1:]:\n",
    "        print(row[\"participant\"], row['snapshot'])\n",
    "\n",
    "        # read snapshot file path\n",
    "        # Read file 1 if change was made\n",
    "        prev_snapshot_filename = f'{assignment}_{p}_c{row['snapshot']-1}'\n",
    "        prev_snapshot_path = os.path.join(snapshots_dir, prev_snapshot_filename)\n",
    "        prev_snapshot = read_file_as_string(prev_snapshot_path)\n",
    "        current_snapshot_filename = f'{assignment}_{p}_c{row['snapshot']}'\n",
    "        current_snapshot_path = os.path.join(snapshots_dir, current_snapshot_filename)\n",
    "        current_snapshot_path = read_file_as_string(current_snapshot_path)\n",
    "\n",
    "        old_file_1 = None\n",
    "        current_file_1 = None\n",
    "\n",
    "        # Read file 2 if change was made\n",
    "        old_file_2 = None\n",
    "        current_file_2 = None\n",
    "\n",
    "        # Read autograder code\n",
    "        autograder_2 = None\n",
    "\n",
    "        # Ask the llm\n",
    "        prompt = None\n",
    "\n",
    "        response = chat_session.send_message()\n",
    "        print(response)\n",
    "        df.at[idx, \"llm_response\"] = response\n",
    "        df.to_csv(\"KeylogDatasets/a3_llm.csv\", index=False) if a3 else df.to_csv(\"KeylogDatasets/a4.csv\", index=False)\n",
    "        time.sleep(1)"
   ]
  }
 ],
 "metadata": {
  "kernelspec": {
   "display_name": "data_science",
   "language": "python",
   "name": "python3"
  },
  "language_info": {
   "codemirror_mode": {
    "name": "ipython",
    "version": 3
   },
   "file_extension": ".py",
   "mimetype": "text/x-python",
   "name": "python",
   "nbconvert_exporter": "python",
   "pygments_lexer": "ipython3",
   "version": "3.11.0"
  }
 },
 "nbformat": 4,
 "nbformat_minor": 2
}
